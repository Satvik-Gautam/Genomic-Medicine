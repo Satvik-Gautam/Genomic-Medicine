{
  "nbformat": 4,
  "nbformat_minor": 0,
  "metadata": {
    "colab": {
      "provenance": [],
      "gpuType": "T4",
      "mount_file_id": "1ASzUw9FO2kj6SIuGH0_fpWFfKcUjyJD-",
      "authorship_tag": "ABX9TyNk3GIUcWxqc+C4gPHA/Zhr",
      "include_colab_link": true
    },
    "kernelspec": {
      "name": "python3",
      "display_name": "Python 3"
    },
    "language_info": {
      "name": "python"
    },
    "accelerator": "GPU"
  },
  "cells": [
    {
      "cell_type": "markdown",
      "metadata": {
        "id": "view-in-github",
        "colab_type": "text"
      },
      "source": [
        "<a href=\"https://colab.research.google.com/github/Satvik-Gautam/Genomic-Medicine/blob/main/Genemedicinemodel.ipynb\" target=\"_parent\"><img src=\"https://colab.research.google.com/assets/colab-badge.svg\" alt=\"Open In Colab\"/></a>"
      ]
    },
    {
      "cell_type": "code",
      "execution_count": null,
      "metadata": {
        "id": "zqQmjHFmg5iB"
      },
      "outputs": [],
      "source": [
        "from google.colab import drive\n"
      ]
    },
    {
      "cell_type": "code",
      "source": [
        "drive.mount(\"/content/drive\" , force_remount=True)"
      ],
      "metadata": {
        "colab": {
          "base_uri": "https://localhost:8080/"
        },
        "id": "G5ldcyPOhA2e",
        "outputId": "c98ae31f-339f-441c-f77b-0a2c80909c85"
      },
      "execution_count": null,
      "outputs": [
        {
          "output_type": "stream",
          "name": "stdout",
          "text": [
            "Mounted at /content/drive\n"
          ]
        }
      ]
    },
    {
      "cell_type": "code",
      "source": [
        "import pandas as pd\n",
        "import numpy as np\n",
        "from sklearn.preprocessing import StandardScaler, LabelEncoder, OneHotEncoder\n",
        "from tensorflow.keras.models import Sequential, load_model\n",
        "from tensorflow.keras.layers import Dense, Dropout\n",
        "from tensorflow.keras.optimizers import Adam\n",
        "\n",
        "# Load your dataset\n",
        "# Replace 'your_dataset.csv' with the actual file path\n",
        "dataset_path = '/content/drive/MyDrive/Data/hack2.csv'\n",
        "df = pd.read_csv(dataset_path)\n",
        "\n",
        "# Assuming 'drug_name' is the target variable\n",
        "target_column = 'drug_name'\n",
        "\n",
        "# Extract features (X) and target variable (y)\n",
        "X = df.drop(columns=[target_column])\n",
        "y = df[target_column]\n",
        "\n",
        "# Use LabelEncoder to convert string labels to numeric values\n",
        "label_encoder = LabelEncoder()\n",
        "y_encoded = label_encoder.fit_transform(y)\n",
        "\n",
        "# One-hot encode categorical features\n",
        "X_encoded = pd.get_dummies(X, columns=X.select_dtypes(include='object').columns)\n",
        "\n",
        "# Standardize the features\n",
        "scaler = StandardScaler()\n",
        "X_scaled = scaler.fit_transform(X_encoded)\n",
        "\n",
        "# Build a simple neural network model for classification\n",
        "model = Sequential()\n",
        "model.add(Dense(64, input_dim=X_scaled.shape[1], activation='relu'))\n",
        "model.add(Dropout(0.2))\n",
        "model.add(Dense(32, activation='relu'))\n",
        "model.add(Dense(len(label_encoder.classes_), activation='softmax'))  # Softmax for classification\n",
        "\n",
        "# Compile the model\n",
        "model.compile(loss='sparse_categorical_crossentropy', optimizer=Adam(lr=0.001), metrics=['accuracy'])\n",
        "\n",
        "# Train the model\n",
        "history = model.fit(X_scaled, y_encoded, epochs=20, batch_size=32, validation_split=0.2)\n",
        "\n",
        "# Print accuracy\n",
        "accuracy = history.history['accuracy'][-1]\n",
        "print(f\"Final Accuracy: {accuracy * 100:.2f}%\")\n",
        "\n",
        "# Save the model\n",
        "model.save('your_saved_model.h5')\n"
      ],
      "metadata": {
        "colab": {
          "base_uri": "https://localhost:8080/"
        },
        "id": "G0FXrXRv019M",
        "outputId": "df71c182-1294-46ba-aebd-05d808bd1810"
      },
      "execution_count": null,
      "outputs": [
        {
          "output_type": "stream",
          "name": "stderr",
          "text": [
            "WARNING:absl:`lr` is deprecated in Keras optimizer, please use `learning_rate` or use the legacy optimizer, e.g.,tf.keras.optimizers.legacy.Adam.\n"
          ]
        },
        {
          "output_type": "stream",
          "name": "stdout",
          "text": [
            "Epoch 1/20\n",
            "431/431 [==============================] - 4s 5ms/step - loss: 1.2157 - accuracy: 0.6627 - val_loss: 9.6992 - val_accuracy: 0.0302\n",
            "Epoch 2/20\n",
            "431/431 [==============================] - 2s 5ms/step - loss: 0.1087 - accuracy: 0.9516 - val_loss: 10.8766 - val_accuracy: 0.0305\n",
            "Epoch 3/20\n",
            "431/431 [==============================] - 2s 5ms/step - loss: 0.0765 - accuracy: 0.9603 - val_loss: 11.5817 - val_accuracy: 0.0305\n",
            "Epoch 4/20\n",
            "431/431 [==============================] - 2s 4ms/step - loss: 0.0579 - accuracy: 0.9753 - val_loss: 12.7380 - val_accuracy: 0.0305\n",
            "Epoch 5/20\n",
            "431/431 [==============================] - 2s 4ms/step - loss: 0.0353 - accuracy: 0.9875 - val_loss: 14.2241 - val_accuracy: 0.0305\n",
            "Epoch 6/20\n",
            "431/431 [==============================] - 2s 4ms/step - loss: 0.0148 - accuracy: 0.9962 - val_loss: 15.4611 - val_accuracy: 0.0305\n",
            "Epoch 7/20\n",
            "431/431 [==============================] - 1s 3ms/step - loss: 0.0084 - accuracy: 0.9979 - val_loss: 16.6924 - val_accuracy: 0.0305\n",
            "Epoch 8/20\n",
            "431/431 [==============================] - 2s 3ms/step - loss: 0.0045 - accuracy: 0.9993 - val_loss: 17.3067 - val_accuracy: 0.0305\n",
            "Epoch 9/20\n",
            "431/431 [==============================] - 2s 4ms/step - loss: 0.0037 - accuracy: 0.9990 - val_loss: 17.9946 - val_accuracy: 0.0305\n",
            "Epoch 10/20\n",
            "431/431 [==============================] - 2s 5ms/step - loss: 0.0028 - accuracy: 0.9996 - val_loss: 18.2884 - val_accuracy: 0.0305\n",
            "Epoch 11/20\n",
            "431/431 [==============================] - 2s 5ms/step - loss: 0.0018 - accuracy: 0.9998 - val_loss: 19.2990 - val_accuracy: 0.0305\n",
            "Epoch 12/20\n",
            "431/431 [==============================] - 2s 5ms/step - loss: 0.0023 - accuracy: 0.9993 - val_loss: 19.9484 - val_accuracy: 0.0305\n",
            "Epoch 13/20\n",
            "431/431 [==============================] - 2s 4ms/step - loss: 0.0016 - accuracy: 0.9996 - val_loss: 20.5529 - val_accuracy: 0.0305\n",
            "Epoch 14/20\n",
            "431/431 [==============================] - 2s 4ms/step - loss: 0.0013 - accuracy: 0.9996 - val_loss: 21.0357 - val_accuracy: 0.0305\n",
            "Epoch 15/20\n",
            "431/431 [==============================] - 1s 3ms/step - loss: 5.5307e-04 - accuracy: 0.9999 - val_loss: 21.0595 - val_accuracy: 0.0305\n",
            "Epoch 16/20\n",
            "431/431 [==============================] - 2s 3ms/step - loss: 0.0014 - accuracy: 0.9996 - val_loss: 21.8311 - val_accuracy: 0.0305\n",
            "Epoch 17/20\n",
            "431/431 [==============================] - 1s 3ms/step - loss: 4.7193e-04 - accuracy: 1.0000 - val_loss: 21.8940 - val_accuracy: 0.0305\n",
            "Epoch 18/20\n",
            "431/431 [==============================] - 1s 3ms/step - loss: 0.0013 - accuracy: 0.9995 - val_loss: 22.4242 - val_accuracy: 0.0305\n",
            "Epoch 19/20\n",
            "431/431 [==============================] - 2s 4ms/step - loss: 4.8476e-04 - accuracy: 0.9999 - val_loss: 23.2064 - val_accuracy: 0.0305\n",
            "Epoch 20/20\n",
            "431/431 [==============================] - 2s 5ms/step - loss: 7.0966e-04 - accuracy: 0.9998 - val_loss: 22.9141 - val_accuracy: 0.0305\n",
            "Final Accuracy: 99.98%\n"
          ]
        },
        {
          "output_type": "stream",
          "name": "stderr",
          "text": [
            "/usr/local/lib/python3.10/dist-packages/keras/src/engine/training.py:3079: UserWarning: You are saving your model as an HDF5 file via `model.save()`. This file format is considered legacy. We recommend using instead the native Keras format, e.g. `model.save('my_model.keras')`.\n",
            "  saving_api.save_model(\n"
          ]
        }
      ]
    },
    {
      "cell_type": "code",
      "source": [
        "specific_feature_name = 'ABCB1_mut'  # Change this to the desired feature name\n",
        "\n",
        "# Load the saved model for evaluation\n",
        "evaluation_model = Model(inputs=input_layer, outputs=[drug_name_output, ic50_effect_size_output, target_pathway_output])\n",
        "evaluation_model.compile(optimizer='adam', loss={'drug_name': 'sparse_categorical_crossentropy', 'ic50_effect_size': 'mean_squared_error', 'target_pathway': 'sparse_categorical_crossentropy'})\n",
        "\n",
        "# Process user input to match the input format used during training\n",
        "user_input = pd.DataFrame([specific_feature_name], columns=['feature_name'])\n",
        "\n",
        "# One-hot encode the user input with the same columns as during training\n",
        "user_input_encoded = pd.get_dummies(user_input, prefix='feature_name')\n",
        "user_input_encoded = user_input_encoded.reindex(columns=X_encoded.columns, fill_value=0)\n",
        "\n",
        "user_input_scaled = scaler.transform(user_input_encoded)\n",
        "\n",
        "# Use the model to predict drug_name, ic50_effect_size, target, and target_pathway based on the user input\n",
        "predictions = evaluation_model.predict(user_input_scaled)\n",
        "\n",
        "# Display the search results without the predicted results\n",
        "search_results = df[df['feature_name'] == specific_feature_name][['feature_name'] + target_columns]\n",
        "search_results_sorted = search_results.sort_values(by='ic50_effect_size', ascending=False)\n",
        "\n",
        "print(\"\\nSearch Results:\")\n",
        "print(search_results_sorted.to_markdown(index=False))\n"
      ],
      "metadata": {
        "colab": {
          "base_uri": "https://localhost:8080/"
        },
        "id": "gA7_Q4JGCC7F",
        "outputId": "0082cfa4-3725-4428-aa06-56e676667212"
      },
      "execution_count": null,
      "outputs": [
        {
          "output_type": "stream",
          "name": "stdout",
          "text": [
            "1/1 [==============================] - 0s 121ms/step\n",
            "\n",
            "Search Results:\n",
            "| feature_name   | drug_name                                 |   ic50_effect_size | target                                    | target_pathway                    |\n",
            "|:---------------|:------------------------------------------|-------------------:|:------------------------------------------|:----------------------------------|\n",
            "| ABCB1_mut      | Gemcitabine                               |          0.49869   | Pyrimidine antimetabolite                 | DNA replication                   |\n",
            "| ABCB1_mut      | Mitoxantrone                              |          0.494241  | TOP2                                      | DNA replication                   |\n",
            "| ABCB1_mut      | Bortezomib                                |          0.392577  | Proteasome                                | Protein stability and degradation |\n",
            "| ABCB1_mut      | Bleomycin (50 uM)                         |          0.381678  | dsDNA break induction                     | DNA replication                   |\n",
            "| ABCB1_mut      | Bicalutamide                              |          0.3706    | AR                                        | Hormone-related                   |\n",
            "| ABCB1_mut      | Gefitinib                                 |          0.365952  | EGFR                                      | EGFR signaling                    |\n",
            "| ABCB1_mut      | Luminespib                                |          0.318761  | HSP90                                     | Protein stability and degradation |\n",
            "| ABCB1_mut      | Bleomycin                                 |          0.287024  | dsDNA break induction                     | DNA replication                   |\n",
            "| ABCB1_mut      | Bosutinib                                 |          0.279723  | SRC, ABL, TEC                             | Other, kinases                    |\n",
            "| ABCB1_mut      | Linsitinib                                |          0.259808  | IGF1R                                     | IGF1R signaling                   |\n",
            "| ABCB1_mut      | Lapatinib                                 |          0.221104  | EGFR, ERBB2                               | EGFR signaling                    |\n",
            "| ABCB1_mut      | Lestaurtinib                              |          0.203876  | FLT3, JAK2, NTRK1, NTRK2, NTRK3           | Other, kinases                    |\n",
            "| ABCB1_mut      | Motesanib                                 |          0.176612  | VEGFR, RET, KIT, PDGFR                    | RTK signaling                     |\n",
            "| ABCB1_mut      | 5-Fluorouracil                            |          0.136608  | DNA methyltransferases                    | Other                             |\n",
            "| ABCB1_mut      | Buparlisib                                |          0.130512  | PI3Kalpha, PI3Kdelta, PI3Kbeta, PI3Kgamma | PI3K/MTOR signaling               |\n",
            "| ABCB1_mut      | Histone methyltransferase inhibitor A-366 |          0.121153  | EHMT1, EHMT2                              | Chromatin histone methylation     |\n",
            "| ABCB1_mut      | Lenalidomide                              |          0.0839892 | CRBN                                      | Protein stability and degradation |\n",
            "| ABCB1_mut      | Mirin                                     |          0.067305  | MRE11                                     | Genome integrity                  |\n",
            "| ABCB1_mut      | 5-Fluorouracil                            |          0.0662445 | Antimetabolite (DNA & RNA)                | Other                             |\n",
            "| ABCB1_mut      | Mycophenolic acid                         |          0.0487875 | nan                                       | Unclassified                      |\n",
            "| ABCB1_mut      | Leflunomide                               |          0.048586  | Pyrimidine synthesis inhibitor            | DNA replication                   |\n",
            "| ABCB1_mut      | Methotrexate                              |          0.0405499 | Antimetabolite                            | DNA replication                   |\n",
            "| ABCB1_mut      | N-acetyl cysteine                         |          0.0310702 | Metabolism                                | Metabolism                        |\n",
            "| ABCB1_mut      | Bromosporine                              |          0.0207645 | CECR2, BRD2, BRD4, BRD9                   | Chromatin other                   |\n",
            "| ABCB1_mut      | Gallibiscoquinazole                       |          0.0160186 | nan                                       | Unclassified                      |\n",
            "| ABCB1_mut      | Alpha-ketoglutarate 2                     |          0.0111124 | BAZ2A, BAZ2B                              | Chromatin histone acetylation     |\n"
          ]
        }
      ]
    }
  ]
}